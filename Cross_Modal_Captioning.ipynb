{
  "nbformat": 4,
  "nbformat_minor": 0,
  "metadata": {
    "colab": {
      "provenance": []
    },
    "kernelspec": {
      "name": "python3",
      "display_name": "Python 3"
    },
    "language_info": {
      "name": "python"
    },
    "accelerator": "GPU",
    "gpuClass": "standard",
    "widgets": {
      "application/vnd.jupyter.widget-state+json": {
        "85967d7f72874d2d99decea8edc758af": {
          "model_module": "@jupyter-widgets/controls",
          "model_name": "HBoxModel",
          "model_module_version": "1.5.0",
          "state": {
            "_dom_classes": [],
            "_model_module": "@jupyter-widgets/controls",
            "_model_module_version": "1.5.0",
            "_model_name": "HBoxModel",
            "_view_count": null,
            "_view_module": "@jupyter-widgets/controls",
            "_view_module_version": "1.5.0",
            "_view_name": "HBoxView",
            "box_style": "",
            "children": [
              "IPY_MODEL_11bcf62674404d488562e0d8f5a65acf",
              "IPY_MODEL_4f2641ffef5d415ab568acb55ad81b87",
              "IPY_MODEL_7613a4b3471842f59e3670dc55c8a00d"
            ],
            "layout": "IPY_MODEL_38914e6f6905475b99da177ae80cda56"
          }
        },
        "11bcf62674404d488562e0d8f5a65acf": {
          "model_module": "@jupyter-widgets/controls",
          "model_name": "HTMLModel",
          "model_module_version": "1.5.0",
          "state": {
            "_dom_classes": [],
            "_model_module": "@jupyter-widgets/controls",
            "_model_module_version": "1.5.0",
            "_model_name": "HTMLModel",
            "_view_count": null,
            "_view_module": "@jupyter-widgets/controls",
            "_view_module_version": "1.5.0",
            "_view_name": "HTMLView",
            "description": "",
            "description_tooltip": null,
            "layout": "IPY_MODEL_313ec2e4ce744957bfe4f6c564583fba",
            "placeholder": "​",
            "style": "IPY_MODEL_f95cc5d1ad384e88a1f49653dcd4a3f6",
            "value": "100%"
          }
        },
        "4f2641ffef5d415ab568acb55ad81b87": {
          "model_module": "@jupyter-widgets/controls",
          "model_name": "FloatProgressModel",
          "model_module_version": "1.5.0",
          "state": {
            "_dom_classes": [],
            "_model_module": "@jupyter-widgets/controls",
            "_model_module_version": "1.5.0",
            "_model_name": "FloatProgressModel",
            "_view_count": null,
            "_view_module": "@jupyter-widgets/controls",
            "_view_module_version": "1.5.0",
            "_view_name": "ProgressView",
            "bar_style": "success",
            "description": "",
            "description_tooltip": null,
            "layout": "IPY_MODEL_dc56affc69894dfeb5477c82f07cbf23",
            "max": 178793939,
            "min": 0,
            "orientation": "horizontal",
            "style": "IPY_MODEL_4f6a2f67aef34841a192533a88aa5586",
            "value": 178793939
          }
        },
        "7613a4b3471842f59e3670dc55c8a00d": {
          "model_module": "@jupyter-widgets/controls",
          "model_name": "HTMLModel",
          "model_module_version": "1.5.0",
          "state": {
            "_dom_classes": [],
            "_model_module": "@jupyter-widgets/controls",
            "_model_module_version": "1.5.0",
            "_model_name": "HTMLModel",
            "_view_count": null,
            "_view_module": "@jupyter-widgets/controls",
            "_view_module_version": "1.5.0",
            "_view_name": "HTMLView",
            "description": "",
            "description_tooltip": null,
            "layout": "IPY_MODEL_7d696701345e493ebee94783331f7f4b",
            "placeholder": "​",
            "style": "IPY_MODEL_be0af2ca087b46e09cab06a08e9ccc6a",
            "value": " 171M/171M [00:01&lt;00:00, 117MB/s]"
          }
        },
        "38914e6f6905475b99da177ae80cda56": {
          "model_module": "@jupyter-widgets/base",
          "model_name": "LayoutModel",
          "model_module_version": "1.2.0",
          "state": {
            "_model_module": "@jupyter-widgets/base",
            "_model_module_version": "1.2.0",
            "_model_name": "LayoutModel",
            "_view_count": null,
            "_view_module": "@jupyter-widgets/base",
            "_view_module_version": "1.2.0",
            "_view_name": "LayoutView",
            "align_content": null,
            "align_items": null,
            "align_self": null,
            "border": null,
            "bottom": null,
            "display": null,
            "flex": null,
            "flex_flow": null,
            "grid_area": null,
            "grid_auto_columns": null,
            "grid_auto_flow": null,
            "grid_auto_rows": null,
            "grid_column": null,
            "grid_gap": null,
            "grid_row": null,
            "grid_template_areas": null,
            "grid_template_columns": null,
            "grid_template_rows": null,
            "height": null,
            "justify_content": null,
            "justify_items": null,
            "left": null,
            "margin": null,
            "max_height": null,
            "max_width": null,
            "min_height": null,
            "min_width": null,
            "object_fit": null,
            "object_position": null,
            "order": null,
            "overflow": null,
            "overflow_x": null,
            "overflow_y": null,
            "padding": null,
            "right": null,
            "top": null,
            "visibility": null,
            "width": null
          }
        },
        "313ec2e4ce744957bfe4f6c564583fba": {
          "model_module": "@jupyter-widgets/base",
          "model_name": "LayoutModel",
          "model_module_version": "1.2.0",
          "state": {
            "_model_module": "@jupyter-widgets/base",
            "_model_module_version": "1.2.0",
            "_model_name": "LayoutModel",
            "_view_count": null,
            "_view_module": "@jupyter-widgets/base",
            "_view_module_version": "1.2.0",
            "_view_name": "LayoutView",
            "align_content": null,
            "align_items": null,
            "align_self": null,
            "border": null,
            "bottom": null,
            "display": null,
            "flex": null,
            "flex_flow": null,
            "grid_area": null,
            "grid_auto_columns": null,
            "grid_auto_flow": null,
            "grid_auto_rows": null,
            "grid_column": null,
            "grid_gap": null,
            "grid_row": null,
            "grid_template_areas": null,
            "grid_template_columns": null,
            "grid_template_rows": null,
            "height": null,
            "justify_content": null,
            "justify_items": null,
            "left": null,
            "margin": null,
            "max_height": null,
            "max_width": null,
            "min_height": null,
            "min_width": null,
            "object_fit": null,
            "object_position": null,
            "order": null,
            "overflow": null,
            "overflow_x": null,
            "overflow_y": null,
            "padding": null,
            "right": null,
            "top": null,
            "visibility": null,
            "width": null
          }
        },
        "f95cc5d1ad384e88a1f49653dcd4a3f6": {
          "model_module": "@jupyter-widgets/controls",
          "model_name": "DescriptionStyleModel",
          "model_module_version": "1.5.0",
          "state": {
            "_model_module": "@jupyter-widgets/controls",
            "_model_module_version": "1.5.0",
            "_model_name": "DescriptionStyleModel",
            "_view_count": null,
            "_view_module": "@jupyter-widgets/base",
            "_view_module_version": "1.2.0",
            "_view_name": "StyleView",
            "description_width": ""
          }
        },
        "dc56affc69894dfeb5477c82f07cbf23": {
          "model_module": "@jupyter-widgets/base",
          "model_name": "LayoutModel",
          "model_module_version": "1.2.0",
          "state": {
            "_model_module": "@jupyter-widgets/base",
            "_model_module_version": "1.2.0",
            "_model_name": "LayoutModel",
            "_view_count": null,
            "_view_module": "@jupyter-widgets/base",
            "_view_module_version": "1.2.0",
            "_view_name": "LayoutView",
            "align_content": null,
            "align_items": null,
            "align_self": null,
            "border": null,
            "bottom": null,
            "display": null,
            "flex": null,
            "flex_flow": null,
            "grid_area": null,
            "grid_auto_columns": null,
            "grid_auto_flow": null,
            "grid_auto_rows": null,
            "grid_column": null,
            "grid_gap": null,
            "grid_row": null,
            "grid_template_areas": null,
            "grid_template_columns": null,
            "grid_template_rows": null,
            "height": null,
            "justify_content": null,
            "justify_items": null,
            "left": null,
            "margin": null,
            "max_height": null,
            "max_width": null,
            "min_height": null,
            "min_width": null,
            "object_fit": null,
            "object_position": null,
            "order": null,
            "overflow": null,
            "overflow_x": null,
            "overflow_y": null,
            "padding": null,
            "right": null,
            "top": null,
            "visibility": null,
            "width": null
          }
        },
        "4f6a2f67aef34841a192533a88aa5586": {
          "model_module": "@jupyter-widgets/controls",
          "model_name": "ProgressStyleModel",
          "model_module_version": "1.5.0",
          "state": {
            "_model_module": "@jupyter-widgets/controls",
            "_model_module_version": "1.5.0",
            "_model_name": "ProgressStyleModel",
            "_view_count": null,
            "_view_module": "@jupyter-widgets/base",
            "_view_module_version": "1.2.0",
            "_view_name": "StyleView",
            "bar_color": null,
            "description_width": ""
          }
        },
        "7d696701345e493ebee94783331f7f4b": {
          "model_module": "@jupyter-widgets/base",
          "model_name": "LayoutModel",
          "model_module_version": "1.2.0",
          "state": {
            "_model_module": "@jupyter-widgets/base",
            "_model_module_version": "1.2.0",
            "_model_name": "LayoutModel",
            "_view_count": null,
            "_view_module": "@jupyter-widgets/base",
            "_view_module_version": "1.2.0",
            "_view_name": "LayoutView",
            "align_content": null,
            "align_items": null,
            "align_self": null,
            "border": null,
            "bottom": null,
            "display": null,
            "flex": null,
            "flex_flow": null,
            "grid_area": null,
            "grid_auto_columns": null,
            "grid_auto_flow": null,
            "grid_auto_rows": null,
            "grid_column": null,
            "grid_gap": null,
            "grid_row": null,
            "grid_template_areas": null,
            "grid_template_columns": null,
            "grid_template_rows": null,
            "height": null,
            "justify_content": null,
            "justify_items": null,
            "left": null,
            "margin": null,
            "max_height": null,
            "max_width": null,
            "min_height": null,
            "min_width": null,
            "object_fit": null,
            "object_position": null,
            "order": null,
            "overflow": null,
            "overflow_x": null,
            "overflow_y": null,
            "padding": null,
            "right": null,
            "top": null,
            "visibility": null,
            "width": null
          }
        },
        "be0af2ca087b46e09cab06a08e9ccc6a": {
          "model_module": "@jupyter-widgets/controls",
          "model_name": "DescriptionStyleModel",
          "model_module_version": "1.5.0",
          "state": {
            "_model_module": "@jupyter-widgets/controls",
            "_model_module_version": "1.5.0",
            "_model_name": "DescriptionStyleModel",
            "_view_count": null,
            "_view_module": "@jupyter-widgets/base",
            "_view_module_version": "1.2.0",
            "_view_name": "StyleView",
            "description_width": ""
          }
        },
        "02b2489d4d024338ac92ebf0646831a2": {
          "model_module": "@jupyter-widgets/controls",
          "model_name": "HBoxModel",
          "model_module_version": "1.5.0",
          "state": {
            "_dom_classes": [],
            "_model_module": "@jupyter-widgets/controls",
            "_model_module_version": "1.5.0",
            "_model_name": "HBoxModel",
            "_view_count": null,
            "_view_module": "@jupyter-widgets/controls",
            "_view_module_version": "1.5.0",
            "_view_name": "HBoxView",
            "box_style": "",
            "children": [
              "IPY_MODEL_0d38bcfacba0446aadb19b7ba7d61bca",
              "IPY_MODEL_6384d3064d864581b7acbc0784fab85f",
              "IPY_MODEL_be8175eb96e841e3b38eca8011aeb178"
            ],
            "layout": "IPY_MODEL_e3ed73474175454c80373b8225da7414"
          }
        },
        "0d38bcfacba0446aadb19b7ba7d61bca": {
          "model_module": "@jupyter-widgets/controls",
          "model_name": "HTMLModel",
          "model_module_version": "1.5.0",
          "state": {
            "_dom_classes": [],
            "_model_module": "@jupyter-widgets/controls",
            "_model_module_version": "1.5.0",
            "_model_name": "HTMLModel",
            "_view_count": null,
            "_view_module": "@jupyter-widgets/controls",
            "_view_module_version": "1.5.0",
            "_view_name": "HTMLView",
            "description": "",
            "description_tooltip": null,
            "layout": "IPY_MODEL_4a52ffc6552e40758c54b3feb54a5c32",
            "placeholder": "​",
            "style": "IPY_MODEL_c163430635c64caab9da49a9e2c650d1",
            "value": "100%"
          }
        },
        "6384d3064d864581b7acbc0784fab85f": {
          "model_module": "@jupyter-widgets/controls",
          "model_name": "FloatProgressModel",
          "model_module_version": "1.5.0",
          "state": {
            "_dom_classes": [],
            "_model_module": "@jupyter-widgets/controls",
            "_model_module_version": "1.5.0",
            "_model_name": "FloatProgressModel",
            "_view_count": null,
            "_view_module": "@jupyter-widgets/controls",
            "_view_module_version": "1.5.0",
            "_view_name": "ProgressView",
            "bar_style": "success",
            "description": "",
            "description_tooltip": null,
            "layout": "IPY_MODEL_8ac4f5e3f2b94e6a841909675445da5e",
            "max": 337711781,
            "min": 0,
            "orientation": "horizontal",
            "style": "IPY_MODEL_f23c09cdf7774abe920332bb43ae1de2",
            "value": 337711781
          }
        },
        "be8175eb96e841e3b38eca8011aeb178": {
          "model_module": "@jupyter-widgets/controls",
          "model_name": "HTMLModel",
          "model_module_version": "1.5.0",
          "state": {
            "_dom_classes": [],
            "_model_module": "@jupyter-widgets/controls",
            "_model_module_version": "1.5.0",
            "_model_name": "HTMLModel",
            "_view_count": null,
            "_view_module": "@jupyter-widgets/controls",
            "_view_module_version": "1.5.0",
            "_view_name": "HTMLView",
            "description": "",
            "description_tooltip": null,
            "layout": "IPY_MODEL_692d456ee21c41cc8db738c3b54621dd",
            "placeholder": "​",
            "style": "IPY_MODEL_3f42fcca26634ffb87aa05d6f078a425",
            "value": " 322M/322M [00:30&lt;00:00, 8.80MB/s]"
          }
        },
        "e3ed73474175454c80373b8225da7414": {
          "model_module": "@jupyter-widgets/base",
          "model_name": "LayoutModel",
          "model_module_version": "1.2.0",
          "state": {
            "_model_module": "@jupyter-widgets/base",
            "_model_module_version": "1.2.0",
            "_model_name": "LayoutModel",
            "_view_count": null,
            "_view_module": "@jupyter-widgets/base",
            "_view_module_version": "1.2.0",
            "_view_name": "LayoutView",
            "align_content": null,
            "align_items": null,
            "align_self": null,
            "border": null,
            "bottom": null,
            "display": null,
            "flex": null,
            "flex_flow": null,
            "grid_area": null,
            "grid_auto_columns": null,
            "grid_auto_flow": null,
            "grid_auto_rows": null,
            "grid_column": null,
            "grid_gap": null,
            "grid_row": null,
            "grid_template_areas": null,
            "grid_template_columns": null,
            "grid_template_rows": null,
            "height": null,
            "justify_content": null,
            "justify_items": null,
            "left": null,
            "margin": null,
            "max_height": null,
            "max_width": null,
            "min_height": null,
            "min_width": null,
            "object_fit": null,
            "object_position": null,
            "order": null,
            "overflow": null,
            "overflow_x": null,
            "overflow_y": null,
            "padding": null,
            "right": null,
            "top": null,
            "visibility": null,
            "width": null
          }
        },
        "4a52ffc6552e40758c54b3feb54a5c32": {
          "model_module": "@jupyter-widgets/base",
          "model_name": "LayoutModel",
          "model_module_version": "1.2.0",
          "state": {
            "_model_module": "@jupyter-widgets/base",
            "_model_module_version": "1.2.0",
            "_model_name": "LayoutModel",
            "_view_count": null,
            "_view_module": "@jupyter-widgets/base",
            "_view_module_version": "1.2.0",
            "_view_name": "LayoutView",
            "align_content": null,
            "align_items": null,
            "align_self": null,
            "border": null,
            "bottom": null,
            "display": null,
            "flex": null,
            "flex_flow": null,
            "grid_area": null,
            "grid_auto_columns": null,
            "grid_auto_flow": null,
            "grid_auto_rows": null,
            "grid_column": null,
            "grid_gap": null,
            "grid_row": null,
            "grid_template_areas": null,
            "grid_template_columns": null,
            "grid_template_rows": null,
            "height": null,
            "justify_content": null,
            "justify_items": null,
            "left": null,
            "margin": null,
            "max_height": null,
            "max_width": null,
            "min_height": null,
            "min_width": null,
            "object_fit": null,
            "object_position": null,
            "order": null,
            "overflow": null,
            "overflow_x": null,
            "overflow_y": null,
            "padding": null,
            "right": null,
            "top": null,
            "visibility": null,
            "width": null
          }
        },
        "c163430635c64caab9da49a9e2c650d1": {
          "model_module": "@jupyter-widgets/controls",
          "model_name": "DescriptionStyleModel",
          "model_module_version": "1.5.0",
          "state": {
            "_model_module": "@jupyter-widgets/controls",
            "_model_module_version": "1.5.0",
            "_model_name": "DescriptionStyleModel",
            "_view_count": null,
            "_view_module": "@jupyter-widgets/base",
            "_view_module_version": "1.2.0",
            "_view_name": "StyleView",
            "description_width": ""
          }
        },
        "8ac4f5e3f2b94e6a841909675445da5e": {
          "model_module": "@jupyter-widgets/base",
          "model_name": "LayoutModel",
          "model_module_version": "1.2.0",
          "state": {
            "_model_module": "@jupyter-widgets/base",
            "_model_module_version": "1.2.0",
            "_model_name": "LayoutModel",
            "_view_count": null,
            "_view_module": "@jupyter-widgets/base",
            "_view_module_version": "1.2.0",
            "_view_name": "LayoutView",
            "align_content": null,
            "align_items": null,
            "align_self": null,
            "border": null,
            "bottom": null,
            "display": null,
            "flex": null,
            "flex_flow": null,
            "grid_area": null,
            "grid_auto_columns": null,
            "grid_auto_flow": null,
            "grid_auto_rows": null,
            "grid_column": null,
            "grid_gap": null,
            "grid_row": null,
            "grid_template_areas": null,
            "grid_template_columns": null,
            "grid_template_rows": null,
            "height": null,
            "justify_content": null,
            "justify_items": null,
            "left": null,
            "margin": null,
            "max_height": null,
            "max_width": null,
            "min_height": null,
            "min_width": null,
            "object_fit": null,
            "object_position": null,
            "order": null,
            "overflow": null,
            "overflow_x": null,
            "overflow_y": null,
            "padding": null,
            "right": null,
            "top": null,
            "visibility": null,
            "width": null
          }
        },
        "f23c09cdf7774abe920332bb43ae1de2": {
          "model_module": "@jupyter-widgets/controls",
          "model_name": "ProgressStyleModel",
          "model_module_version": "1.5.0",
          "state": {
            "_model_module": "@jupyter-widgets/controls",
            "_model_module_version": "1.5.0",
            "_model_name": "ProgressStyleModel",
            "_view_count": null,
            "_view_module": "@jupyter-widgets/base",
            "_view_module_version": "1.2.0",
            "_view_name": "StyleView",
            "bar_color": null,
            "description_width": ""
          }
        },
        "692d456ee21c41cc8db738c3b54621dd": {
          "model_module": "@jupyter-widgets/base",
          "model_name": "LayoutModel",
          "model_module_version": "1.2.0",
          "state": {
            "_model_module": "@jupyter-widgets/base",
            "_model_module_version": "1.2.0",
            "_model_name": "LayoutModel",
            "_view_count": null,
            "_view_module": "@jupyter-widgets/base",
            "_view_module_version": "1.2.0",
            "_view_name": "LayoutView",
            "align_content": null,
            "align_items": null,
            "align_self": null,
            "border": null,
            "bottom": null,
            "display": null,
            "flex": null,
            "flex_flow": null,
            "grid_area": null,
            "grid_auto_columns": null,
            "grid_auto_flow": null,
            "grid_auto_rows": null,
            "grid_column": null,
            "grid_gap": null,
            "grid_row": null,
            "grid_template_areas": null,
            "grid_template_columns": null,
            "grid_template_rows": null,
            "height": null,
            "justify_content": null,
            "justify_items": null,
            "left": null,
            "margin": null,
            "max_height": null,
            "max_width": null,
            "min_height": null,
            "min_width": null,
            "object_fit": null,
            "object_position": null,
            "order": null,
            "overflow": null,
            "overflow_x": null,
            "overflow_y": null,
            "padding": null,
            "right": null,
            "top": null,
            "visibility": null,
            "width": null
          }
        },
        "3f42fcca26634ffb87aa05d6f078a425": {
          "model_module": "@jupyter-widgets/controls",
          "model_name": "DescriptionStyleModel",
          "model_module_version": "1.5.0",
          "state": {
            "_model_module": "@jupyter-widgets/controls",
            "_model_module_version": "1.5.0",
            "_model_name": "DescriptionStyleModel",
            "_view_count": null,
            "_view_module": "@jupyter-widgets/base",
            "_view_module_version": "1.2.0",
            "_view_name": "StyleView",
            "description_width": ""
          }
        }
      }
    }
  },
  "cells": [
    {
      "cell_type": "markdown",
      "source": [
        "##Imports "
      ],
      "metadata": {
        "id": "zXax6gxYNcvh"
      }
    },
    {
      "cell_type": "code",
      "execution_count": null,
      "metadata": {
        "id": "1D6NS3OsOjo9"
      },
      "outputs": [],
      "source": [
        "\n",
        "import pandas as pd\n",
        "import torch\n",
        "import urllib.request"
      ]
    },
    {
      "cell_type": "markdown",
      "source": [
        "Download the pretrained caption aware transformer model, along with cloning the entire repo with requirements file"
      ],
      "metadata": {
        "id": "b4IbodEFNi-4"
      }
    },
    {
      "cell_type": "code",
      "source": [
        "\n",
        "model = torch.hub.load('saahiluppal/catr', 'v3', pretrained=True)\n",
        "!git clone https://github.com/saahiluppal/catr.git\n",
        "!pip install -r catr/requirements.txt\n",
        "\n",
        "!mkdir images"
      ],
      "metadata": {
        "id": "rJ-wTWaaTwyN",
        "colab": {
          "base_uri": "https://localhost:8080/",
          "height": 1000,
          "referenced_widgets": [
            "85967d7f72874d2d99decea8edc758af",
            "11bcf62674404d488562e0d8f5a65acf",
            "4f2641ffef5d415ab568acb55ad81b87",
            "7613a4b3471842f59e3670dc55c8a00d",
            "38914e6f6905475b99da177ae80cda56",
            "313ec2e4ce744957bfe4f6c564583fba",
            "f95cc5d1ad384e88a1f49653dcd4a3f6",
            "dc56affc69894dfeb5477c82f07cbf23",
            "4f6a2f67aef34841a192533a88aa5586",
            "7d696701345e493ebee94783331f7f4b",
            "be0af2ca087b46e09cab06a08e9ccc6a",
            "02b2489d4d024338ac92ebf0646831a2",
            "0d38bcfacba0446aadb19b7ba7d61bca",
            "6384d3064d864581b7acbc0784fab85f",
            "be8175eb96e841e3b38eca8011aeb178",
            "e3ed73474175454c80373b8225da7414",
            "4a52ffc6552e40758c54b3feb54a5c32",
            "c163430635c64caab9da49a9e2c650d1",
            "8ac4f5e3f2b94e6a841909675445da5e",
            "f23c09cdf7774abe920332bb43ae1de2",
            "692d456ee21c41cc8db738c3b54621dd",
            "3f42fcca26634ffb87aa05d6f078a425"
          ]
        },
        "outputId": "e5dd0bd7-3927-4c4b-c151-7a2b8e84b14f"
      },
      "execution_count": null,
      "outputs": [
        {
          "output_type": "stream",
          "name": "stderr",
          "text": [
            "/usr/local/lib/python3.7/dist-packages/torch/hub.py:267: UserWarning: You are about to download and run code from an untrusted repository. In a future release, this won't be allowed. To add the repository to your trusted list, change the command to {calling_fn}(..., trust_repo=False) and a command prompt will appear asking for an explicit confirmation of trust, or load(..., trust_repo=True), which will assume that the prompt is to be answered with 'yes'. You can also use load(..., trust_repo='check') which will only prompt for confirmation if the repo is not already trusted. This will eventually be the default behaviour\n",
            "  \"You are about to download and run code from an untrusted repository. In a future release, this won't \"\n",
            "Downloading: \"https://github.com/saahiluppal/catr/zipball/master\" to /root/.cache/torch/hub/master.zip\n",
            "/usr/local/lib/python3.7/dist-packages/torchvision/models/_utils.py:209: UserWarning: The parameter 'pretrained' is deprecated since 0.13 and will be removed in 0.15, please use 'weights' instead.\n",
            "  f\"The parameter '{pretrained_param}' is deprecated since 0.13 and will be removed in 0.15, \"\n",
            "/usr/local/lib/python3.7/dist-packages/torchvision/models/_utils.py:223: UserWarning: Arguments other than a weight enum or `None` for 'weights' are deprecated since 0.13 and will be removed in 0.15. The current behavior is equivalent to passing `weights=ResNet101_Weights.IMAGENET1K_V1`. You can also use `weights=ResNet101_Weights.DEFAULT` to get the most up-to-date weights.\n",
            "  warnings.warn(msg)\n",
            "Downloading: \"https://download.pytorch.org/models/resnet101-63fe2227.pth\" to /root/.cache/torch/hub/checkpoints/resnet101-63fe2227.pth\n"
          ]
        },
        {
          "output_type": "display_data",
          "data": {
            "text/plain": [
              "  0%|          | 0.00/171M [00:00<?, ?B/s]"
            ],
            "application/vnd.jupyter.widget-view+json": {
              "version_major": 2,
              "version_minor": 0,
              "model_id": "85967d7f72874d2d99decea8edc758af"
            }
          },
          "metadata": {}
        },
        {
          "output_type": "stream",
          "name": "stderr",
          "text": [
            "Downloading: \"https://github.com/saahiluppal/catr/releases/download/0.2/weight493084032.pth\" to /root/.cache/torch/hub/checkpoints/weight493084032.pth\n"
          ]
        },
        {
          "output_type": "display_data",
          "data": {
            "text/plain": [
              "  0%|          | 0.00/322M [00:00<?, ?B/s]"
            ],
            "application/vnd.jupyter.widget-view+json": {
              "version_major": 2,
              "version_minor": 0,
              "model_id": "02b2489d4d024338ac92ebf0646831a2"
            }
          },
          "metadata": {}
        },
        {
          "output_type": "stream",
          "name": "stdout",
          "text": [
            "Cloning into 'catr'...\n",
            "remote: Enumerating objects: 121, done.\u001b[K\n",
            "remote: Counting objects: 100% (62/62), done.\u001b[K\n",
            "remote: Compressing objects: 100% (26/26), done.\u001b[K\n",
            "remote: Total 121 (delta 46), reused 36 (delta 36), pack-reused 59\u001b[K\n",
            "Receiving objects: 100% (121/121), 3.05 MiB | 18.70 MiB/s, done.\n",
            "Resolving deltas: 100% (53/53), done.\n",
            "Looking in indexes: https://pypi.org/simple, https://us-python.pkg.dev/colab-wheels/public/simple/\n",
            "Requirement already satisfied: torch in /usr/local/lib/python3.7/dist-packages (from -r catr/requirements.txt (line 1)) (1.12.0+cu113)\n",
            "Requirement already satisfied: torchvision in /usr/local/lib/python3.7/dist-packages (from -r catr/requirements.txt (line 2)) (0.13.0+cu113)\n",
            "Requirement already satisfied: numpy in /usr/local/lib/python3.7/dist-packages (from -r catr/requirements.txt (line 3)) (1.21.6)\n",
            "Collecting transformers\n",
            "  Downloading transformers-4.21.1-py3-none-any.whl (4.7 MB)\n",
            "\u001b[K     |████████████████████████████████| 4.7 MB 14.6 MB/s \n",
            "\u001b[?25hRequirement already satisfied: tqdm in /usr/local/lib/python3.7/dist-packages (from -r catr/requirements.txt (line 5)) (4.64.0)\n",
            "Requirement already satisfied: typing-extensions in /usr/local/lib/python3.7/dist-packages (from torch->-r catr/requirements.txt (line 1)) (4.1.1)\n",
            "Requirement already satisfied: requests in /usr/local/lib/python3.7/dist-packages (from torchvision->-r catr/requirements.txt (line 2)) (2.23.0)\n",
            "Requirement already satisfied: pillow!=8.3.*,>=5.3.0 in /usr/local/lib/python3.7/dist-packages (from torchvision->-r catr/requirements.txt (line 2)) (7.1.2)\n",
            "Requirement already satisfied: importlib-metadata in /usr/local/lib/python3.7/dist-packages (from transformers->-r catr/requirements.txt (line 4)) (4.12.0)\n",
            "Collecting tokenizers!=0.11.3,<0.13,>=0.11.1\n",
            "  Downloading tokenizers-0.12.1-cp37-cp37m-manylinux_2_12_x86_64.manylinux2010_x86_64.whl (6.6 MB)\n",
            "\u001b[K     |████████████████████████████████| 6.6 MB 53.7 MB/s \n",
            "\u001b[?25hCollecting huggingface-hub<1.0,>=0.1.0\n",
            "  Downloading huggingface_hub-0.8.1-py3-none-any.whl (101 kB)\n",
            "\u001b[K     |████████████████████████████████| 101 kB 13.8 MB/s \n",
            "\u001b[?25hCollecting pyyaml>=5.1\n",
            "  Downloading PyYAML-6.0-cp37-cp37m-manylinux_2_5_x86_64.manylinux1_x86_64.manylinux_2_12_x86_64.manylinux2010_x86_64.whl (596 kB)\n",
            "\u001b[K     |████████████████████████████████| 596 kB 73.1 MB/s \n",
            "\u001b[?25hRequirement already satisfied: regex!=2019.12.17 in /usr/local/lib/python3.7/dist-packages (from transformers->-r catr/requirements.txt (line 4)) (2022.6.2)\n",
            "Requirement already satisfied: filelock in /usr/local/lib/python3.7/dist-packages (from transformers->-r catr/requirements.txt (line 4)) (3.7.1)\n",
            "Requirement already satisfied: packaging>=20.0 in /usr/local/lib/python3.7/dist-packages (from transformers->-r catr/requirements.txt (line 4)) (21.3)\n",
            "Requirement already satisfied: pyparsing!=3.0.5,>=2.0.2 in /usr/local/lib/python3.7/dist-packages (from packaging>=20.0->transformers->-r catr/requirements.txt (line 4)) (3.0.9)\n",
            "Requirement already satisfied: zipp>=0.5 in /usr/local/lib/python3.7/dist-packages (from importlib-metadata->transformers->-r catr/requirements.txt (line 4)) (3.8.1)\n",
            "Requirement already satisfied: chardet<4,>=3.0.2 in /usr/local/lib/python3.7/dist-packages (from requests->torchvision->-r catr/requirements.txt (line 2)) (3.0.4)\n",
            "Requirement already satisfied: idna<3,>=2.5 in /usr/local/lib/python3.7/dist-packages (from requests->torchvision->-r catr/requirements.txt (line 2)) (2.10)\n",
            "Requirement already satisfied: urllib3!=1.25.0,!=1.25.1,<1.26,>=1.21.1 in /usr/local/lib/python3.7/dist-packages (from requests->torchvision->-r catr/requirements.txt (line 2)) (1.24.3)\n",
            "Requirement already satisfied: certifi>=2017.4.17 in /usr/local/lib/python3.7/dist-packages (from requests->torchvision->-r catr/requirements.txt (line 2)) (2022.6.15)\n",
            "Installing collected packages: pyyaml, tokenizers, huggingface-hub, transformers\n",
            "  Attempting uninstall: pyyaml\n",
            "    Found existing installation: PyYAML 3.13\n",
            "    Uninstalling PyYAML-3.13:\n",
            "      Successfully uninstalled PyYAML-3.13\n",
            "Successfully installed huggingface-hub-0.8.1 pyyaml-6.0 tokenizers-0.12.1 transformers-4.21.1\n"
          ]
        }
      ]
    },
    {
      "cell_type": "markdown",
      "source": [
        "##Dataset Pre-processing\n",
        "\n",
        "Create the dataframe, which expects tsv file for each and disaster. The dataset is in \\datasets folder. In the end we are dropping columns which are not necessary."
      ],
      "metadata": {
        "id": "TZY9UBdpNvKj"
      }
    },
    {
      "cell_type": "code",
      "source": [
        "# create the dataframe. It expects tsv file for each disaster\n",
        "\n",
        "\n",
        "#df = pd.read_csv('srilanka_floods_final_data.tsv', sep='\\t')\n",
        "#df = pd.read_csv('hurricane_harvey_final_data.tsv', sep = '\\t')\n",
        "#df = pd.read_csv('hurricane_irma_final_data.tsv', sep = '\\t')\n",
        "#df = pd.read_csv('hurricane_maria_final_data.tsv', sep = '\\t')\n",
        "#df = pd.read_csv('iraq_iran_earthquake_final_data.tsv', sep = '\\t')\n",
        "#df = pd.read_csv('california_wildfires_final_data.tsv', sep = '\\t')\n",
        "df = pd.read_csv('mexico_earthquake_final_data.tsv', sep = '\\t')\n",
        "df = df.sample(frac=1)\n",
        "\n",
        "df.drop(columns = ['image_id', 'text_info_conf', 'image_info_conf', 'image_human_conf', 'image_path', 'image_human', 'image_damage', 'image_damage_conf', 'text_human'])"
      ],
      "metadata": {
        "id": "k2iZQyJLPNIy",
        "colab": {
          "base_uri": "https://localhost:8080/",
          "height": 468
        },
        "outputId": "48f09008-abff-4a26-da8f-891bfc18aabd"
      },
      "execution_count": null,
      "outputs": [
        {
          "output_type": "execute_result",
          "data": {
            "text/plain": [
              "                tweet_id        text_info       image_info  text_human_conf  \\\n",
              "0     910523364154003456  not_informative  not_informative              NaN   \n",
              "1     910523388598280192      informative      informative           1.0000   \n",
              "2     910523397448314882  not_informative  not_informative              NaN   \n",
              "3     910523398144397312      informative      informative           0.9282   \n",
              "4     910523398144397312      informative      informative           0.9282   \n",
              "...                  ...              ...              ...              ...   \n",
              "1377  916105333872918528      informative  not_informative           1.0000   \n",
              "1378  916105374134042624      informative  not_informative           1.0000   \n",
              "1379  916112796194021376      informative      informative           1.0000   \n",
              "1380  916164076484653056      informative      informative           0.6580   \n",
              "1381  916167674673156096      informative  not_informative           0.5635   \n",
              "\n",
              "                                             tweet_text  \\\n",
              "0     RT @FCBarcelona: Our solidarity with the victi...   \n",
              "1     Mexico earthquake: Many children killed at pri...   \n",
              "2     Obamaâ€™s Response To The Earthquake In #Mexic...   \n",
              "3     RT @AmichaiStein1: #BREAKING: Israel search &a...   \n",
              "4     RT @AmichaiStein1: #BREAKING: Israel search &a...   \n",
              "...                                                 ...   \n",
              "1377  Carlos santana donates $100k to mexico earthqu...   \n",
              "1378  Seth troxler donates 10k to earthquake relief ...   \n",
              "1379  Entercom/San Francisco Stations Raise Funds Fo...   \n",
              "1380  Mexico Earthquakes | International Medical Cor...   \n",
              "1381  Napa school employee Valentin Fuentes Villanue...   \n",
              "\n",
              "                                           image_url  \n",
              "0     http://pbs.twimg.com/media/DKLLdbyW0AASG2R.jpg  \n",
              "1     http://pbs.twimg.com/media/DKLUMbJV4AACuFU.jpg  \n",
              "2     http://pbs.twimg.com/media/DKLUND8WAAAHgON.jpg  \n",
              "3     http://pbs.twimg.com/media/DKK1CuDWsAAX5Vk.jpg  \n",
              "4     http://pbs.twimg.com/media/DKK1DyDXkAABvBX.jpg  \n",
              "...                                              ...  \n",
              "1377  http://pbs.twimg.com/media/DLao8g8W4AAKoPV.jpg  \n",
              "1378  http://pbs.twimg.com/media/DLao-2GWsAA97vC.jpg  \n",
              "1379  http://pbs.twimg.com/media/DLavu1YV4AAgSJ_.jpg  \n",
              "1380  http://pbs.twimg.com/media/DLbeXxlWsAEl9xu.jpg  \n",
              "1381  http://pbs.twimg.com/media/DLbhpNXW4AAGqC1.jpg  \n",
              "\n",
              "[1382 rows x 6 columns]"
            ],
            "text/html": [
              "\n",
              "  <div id=\"df-25280a6f-ee2a-4a97-9e27-4edf0dc806e8\">\n",
              "    <div class=\"colab-df-container\">\n",
              "      <div>\n",
              "<style scoped>\n",
              "    .dataframe tbody tr th:only-of-type {\n",
              "        vertical-align: middle;\n",
              "    }\n",
              "\n",
              "    .dataframe tbody tr th {\n",
              "        vertical-align: top;\n",
              "    }\n",
              "\n",
              "    .dataframe thead th {\n",
              "        text-align: right;\n",
              "    }\n",
              "</style>\n",
              "<table border=\"1\" class=\"dataframe\">\n",
              "  <thead>\n",
              "    <tr style=\"text-align: right;\">\n",
              "      <th></th>\n",
              "      <th>tweet_id</th>\n",
              "      <th>text_info</th>\n",
              "      <th>image_info</th>\n",
              "      <th>text_human_conf</th>\n",
              "      <th>tweet_text</th>\n",
              "      <th>image_url</th>\n",
              "    </tr>\n",
              "  </thead>\n",
              "  <tbody>\n",
              "    <tr>\n",
              "      <th>0</th>\n",
              "      <td>910523364154003456</td>\n",
              "      <td>not_informative</td>\n",
              "      <td>not_informative</td>\n",
              "      <td>NaN</td>\n",
              "      <td>RT @FCBarcelona: Our solidarity with the victi...</td>\n",
              "      <td>http://pbs.twimg.com/media/DKLLdbyW0AASG2R.jpg</td>\n",
              "    </tr>\n",
              "    <tr>\n",
              "      <th>1</th>\n",
              "      <td>910523388598280192</td>\n",
              "      <td>informative</td>\n",
              "      <td>informative</td>\n",
              "      <td>1.0000</td>\n",
              "      <td>Mexico earthquake: Many children killed at pri...</td>\n",
              "      <td>http://pbs.twimg.com/media/DKLUMbJV4AACuFU.jpg</td>\n",
              "    </tr>\n",
              "    <tr>\n",
              "      <th>2</th>\n",
              "      <td>910523397448314882</td>\n",
              "      <td>not_informative</td>\n",
              "      <td>not_informative</td>\n",
              "      <td>NaN</td>\n",
              "      <td>Obamaâ€™s Response To The Earthquake In #Mexic...</td>\n",
              "      <td>http://pbs.twimg.com/media/DKLUND8WAAAHgON.jpg</td>\n",
              "    </tr>\n",
              "    <tr>\n",
              "      <th>3</th>\n",
              "      <td>910523398144397312</td>\n",
              "      <td>informative</td>\n",
              "      <td>informative</td>\n",
              "      <td>0.9282</td>\n",
              "      <td>RT @AmichaiStein1: #BREAKING: Israel search &amp;a...</td>\n",
              "      <td>http://pbs.twimg.com/media/DKK1CuDWsAAX5Vk.jpg</td>\n",
              "    </tr>\n",
              "    <tr>\n",
              "      <th>4</th>\n",
              "      <td>910523398144397312</td>\n",
              "      <td>informative</td>\n",
              "      <td>informative</td>\n",
              "      <td>0.9282</td>\n",
              "      <td>RT @AmichaiStein1: #BREAKING: Israel search &amp;a...</td>\n",
              "      <td>http://pbs.twimg.com/media/DKK1DyDXkAABvBX.jpg</td>\n",
              "    </tr>\n",
              "    <tr>\n",
              "      <th>...</th>\n",
              "      <td>...</td>\n",
              "      <td>...</td>\n",
              "      <td>...</td>\n",
              "      <td>...</td>\n",
              "      <td>...</td>\n",
              "      <td>...</td>\n",
              "    </tr>\n",
              "    <tr>\n",
              "      <th>1377</th>\n",
              "      <td>916105333872918528</td>\n",
              "      <td>informative</td>\n",
              "      <td>not_informative</td>\n",
              "      <td>1.0000</td>\n",
              "      <td>Carlos santana donates $100k to mexico earthqu...</td>\n",
              "      <td>http://pbs.twimg.com/media/DLao8g8W4AAKoPV.jpg</td>\n",
              "    </tr>\n",
              "    <tr>\n",
              "      <th>1378</th>\n",
              "      <td>916105374134042624</td>\n",
              "      <td>informative</td>\n",
              "      <td>not_informative</td>\n",
              "      <td>1.0000</td>\n",
              "      <td>Seth troxler donates 10k to earthquake relief ...</td>\n",
              "      <td>http://pbs.twimg.com/media/DLao-2GWsAA97vC.jpg</td>\n",
              "    </tr>\n",
              "    <tr>\n",
              "      <th>1379</th>\n",
              "      <td>916112796194021376</td>\n",
              "      <td>informative</td>\n",
              "      <td>informative</td>\n",
              "      <td>1.0000</td>\n",
              "      <td>Entercom/San Francisco Stations Raise Funds Fo...</td>\n",
              "      <td>http://pbs.twimg.com/media/DLavu1YV4AAgSJ_.jpg</td>\n",
              "    </tr>\n",
              "    <tr>\n",
              "      <th>1380</th>\n",
              "      <td>916164076484653056</td>\n",
              "      <td>informative</td>\n",
              "      <td>informative</td>\n",
              "      <td>0.6580</td>\n",
              "      <td>Mexico Earthquakes | International Medical Cor...</td>\n",
              "      <td>http://pbs.twimg.com/media/DLbeXxlWsAEl9xu.jpg</td>\n",
              "    </tr>\n",
              "    <tr>\n",
              "      <th>1381</th>\n",
              "      <td>916167674673156096</td>\n",
              "      <td>informative</td>\n",
              "      <td>not_informative</td>\n",
              "      <td>0.5635</td>\n",
              "      <td>Napa school employee Valentin Fuentes Villanue...</td>\n",
              "      <td>http://pbs.twimg.com/media/DLbhpNXW4AAGqC1.jpg</td>\n",
              "    </tr>\n",
              "  </tbody>\n",
              "</table>\n",
              "<p>1382 rows × 6 columns</p>\n",
              "</div>\n",
              "      <button class=\"colab-df-convert\" onclick=\"convertToInteractive('df-25280a6f-ee2a-4a97-9e27-4edf0dc806e8')\"\n",
              "              title=\"Convert this dataframe to an interactive table.\"\n",
              "              style=\"display:none;\">\n",
              "        \n",
              "  <svg xmlns=\"http://www.w3.org/2000/svg\" height=\"24px\"viewBox=\"0 0 24 24\"\n",
              "       width=\"24px\">\n",
              "    <path d=\"M0 0h24v24H0V0z\" fill=\"none\"/>\n",
              "    <path d=\"M18.56 5.44l.94 2.06.94-2.06 2.06-.94-2.06-.94-.94-2.06-.94 2.06-2.06.94zm-11 1L8.5 8.5l.94-2.06 2.06-.94-2.06-.94L8.5 2.5l-.94 2.06-2.06.94zm10 10l.94 2.06.94-2.06 2.06-.94-2.06-.94-.94-2.06-.94 2.06-2.06.94z\"/><path d=\"M17.41 7.96l-1.37-1.37c-.4-.4-.92-.59-1.43-.59-.52 0-1.04.2-1.43.59L10.3 9.45l-7.72 7.72c-.78.78-.78 2.05 0 2.83L4 21.41c.39.39.9.59 1.41.59.51 0 1.02-.2 1.41-.59l7.78-7.78 2.81-2.81c.8-.78.8-2.07 0-2.86zM5.41 20L4 18.59l7.72-7.72 1.47 1.35L5.41 20z\"/>\n",
              "  </svg>\n",
              "      </button>\n",
              "      \n",
              "  <style>\n",
              "    .colab-df-container {\n",
              "      display:flex;\n",
              "      flex-wrap:wrap;\n",
              "      gap: 12px;\n",
              "    }\n",
              "\n",
              "    .colab-df-convert {\n",
              "      background-color: #E8F0FE;\n",
              "      border: none;\n",
              "      border-radius: 50%;\n",
              "      cursor: pointer;\n",
              "      display: none;\n",
              "      fill: #1967D2;\n",
              "      height: 32px;\n",
              "      padding: 0 0 0 0;\n",
              "      width: 32px;\n",
              "    }\n",
              "\n",
              "    .colab-df-convert:hover {\n",
              "      background-color: #E2EBFA;\n",
              "      box-shadow: 0px 1px 2px rgba(60, 64, 67, 0.3), 0px 1px 3px 1px rgba(60, 64, 67, 0.15);\n",
              "      fill: #174EA6;\n",
              "    }\n",
              "\n",
              "    [theme=dark] .colab-df-convert {\n",
              "      background-color: #3B4455;\n",
              "      fill: #D2E3FC;\n",
              "    }\n",
              "\n",
              "    [theme=dark] .colab-df-convert:hover {\n",
              "      background-color: #434B5C;\n",
              "      box-shadow: 0px 1px 3px 1px rgba(0, 0, 0, 0.15);\n",
              "      filter: drop-shadow(0px 1px 2px rgba(0, 0, 0, 0.3));\n",
              "      fill: #FFFFFF;\n",
              "    }\n",
              "  </style>\n",
              "\n",
              "      <script>\n",
              "        const buttonEl =\n",
              "          document.querySelector('#df-25280a6f-ee2a-4a97-9e27-4edf0dc806e8 button.colab-df-convert');\n",
              "        buttonEl.style.display =\n",
              "          google.colab.kernel.accessAllowed ? 'block' : 'none';\n",
              "\n",
              "        async function convertToInteractive(key) {\n",
              "          const element = document.querySelector('#df-25280a6f-ee2a-4a97-9e27-4edf0dc806e8');\n",
              "          const dataTable =\n",
              "            await google.colab.kernel.invokeFunction('convertToInteractive',\n",
              "                                                     [key], {});\n",
              "          if (!dataTable) return;\n",
              "\n",
              "          const docLinkHtml = 'Like what you see? Visit the ' +\n",
              "            '<a target=\"_blank\" href=https://colab.research.google.com/notebooks/data_table.ipynb>data table notebook</a>'\n",
              "            + ' to learn more about interactive tables.';\n",
              "          element.innerHTML = '';\n",
              "          dataTable['output_type'] = 'display_data';\n",
              "          await google.colab.output.renderOutput(dataTable, element);\n",
              "          const docLink = document.createElement('div');\n",
              "          docLink.innerHTML = docLinkHtml;\n",
              "          element.appendChild(docLink);\n",
              "        }\n",
              "      </script>\n",
              "    </div>\n",
              "  </div>\n",
              "  "
            ]
          },
          "metadata": {},
          "execution_count": 4
        }
      ]
    },
    {
      "cell_type": "markdown",
      "source": [
        "Filter the dataset so that it only contains those data points where text and image both are informative or non-informative. This done to ensure that there is only one label for the entire tweet. "
      ],
      "metadata": {
        "id": "R5hiYJG3QUVw"
      }
    },
    {
      "cell_type": "code",
      "source": [
        "# filtering the dataframe for the required fields\n",
        "\n",
        "\n",
        "cond1 = df['text_info'] == 'informative'\n",
        "cond2 = df['image_info'] == 'informative'\n",
        "cond3 = df['text_info'] == 'not_informative'\n",
        "cond4 = df['image_info'] == 'not_informative'\n",
        "\n",
        "df_clean = df[(cond1&cond2) | (cond3&cond4)]\n",
        "df_clean\n",
        "print(\"Original Dataframe\", len(df.index))\n",
        "print(\"Filtered Dataframe\", len(df_clean.index))\n",
        "\n",
        "df_clean = df_clean[:1000]\n",
        "df_short = df_clean.reset_index(drop = True)\n"
      ],
      "metadata": {
        "id": "4iywP8wdSEUR"
      },
      "execution_count": null,
      "outputs": []
    },
    {
      "cell_type": "markdown",
      "source": [
        "Create the images directory, this will be used to store the locally downloaded tweet images "
      ],
      "metadata": {
        "id": "Pm66iSN4QvMC"
      }
    },
    {
      "cell_type": "code",
      "source": [
        "# create images directory incase it does not exist\n",
        "\n",
        "!mkdir images"
      ],
      "metadata": {
        "id": "tdEBFhG-sokw",
        "colab": {
          "base_uri": "https://localhost:8080/"
        },
        "outputId": "306167ce-8c4c-4c06-d2c1-7e01a25f7eb0"
      },
      "execution_count": null,
      "outputs": [
        {
          "output_type": "stream",
          "name": "stdout",
          "text": [
            "mkdir: cannot create directory ‘images’: File exists\n"
          ]
        }
      ]
    },
    {
      "cell_type": "markdown",
      "source": [
        "Before starting the experiments for a new disaster dataset, be sure to remove the existing /images directory. Remove using this cell and create a new directory using the previous cell."
      ],
      "metadata": {
        "id": "qqzH0jGpQ2LB"
      }
    },
    {
      "cell_type": "code",
      "source": [
        "!rm -rf images"
      ],
      "metadata": {
        "id": "vpRojx9VuEp7"
      },
      "execution_count": null,
      "outputs": []
    },
    {
      "cell_type": "markdown",
      "source": [
        "Check if the indexes are properly orderd and reset them if required."
      ],
      "metadata": {
        "id": "B12xzXWBRIG9"
      }
    },
    {
      "cell_type": "code",
      "source": [
        "# reset all the indexes\n",
        "\n",
        "df_short\n",
        "df_short = df_short.reset_index(drop = True)"
      ],
      "metadata": {
        "id": "J2L3xImbs5Gk"
      },
      "execution_count": null,
      "outputs": []
    },
    {
      "cell_type": "markdown",
      "source": [
        "##Generating Image Captions\n",
        "\n",
        "Fetch the images from the URL given in the dataset and store it in /images folder with indexing"
      ],
      "metadata": {
        "id": "SIJEN-5Me2VK"
      }
    },
    {
      "cell_type": "code",
      "source": [
        "# fetch the images from the URL's and store it in the /images folder \n",
        "\n",
        "import os\n",
        "fail_count=0\n",
        "\n",
        "for index, row in df_short.iterrows():\n",
        "  curr_url = row['image_url']\n",
        "  print(index)\n",
        "  location = os.getcwd()+ '/images/' + str(index) + '.jpg'\n",
        "  try:\n",
        "    urllib.request.urlretrieve(curr_url, location)\n",
        "    #print(curr_url)\n",
        "  except:\n",
        "    print(\"Image could not be downloaded\")\n",
        "    fail_count+=1\n",
        "\n",
        "print(fail_count)"
      ],
      "metadata": {
        "id": "EGK86LpyU9Sn"
      },
      "execution_count": null,
      "outputs": []
    },
    {
      "cell_type": "markdown",
      "source": [
        "Upload the caption_multiply.py file from this https://github.com/codezakh/exploiting-BERT-thru-translation and move it to the catr folder\n",
        "\n",
        "We need to to do this in order to ensure that we can generate captions for images in /images folder"
      ],
      "metadata": {
        "id": "hjnbbvxie_KA"
      }
    },
    {
      "cell_type": "code",
      "source": [
        "## upload caption_multiple.py from this repo: https://github.com/codezakh/exploiting-BERT-thru-translation\n",
        "## and move it to catr folder\n",
        "\n",
        "!mv caption_multiple.py catr/"
      ],
      "metadata": {
        "id": "CvufPtKg4Mfr"
      },
      "execution_count": null,
      "outputs": []
    },
    {
      "cell_type": "markdown",
      "source": [
        "Start generating the caption for images in the folder. It writes the caption for all the files in the json format "
      ],
      "metadata": {
        "id": "Plfnb8PwfR8P"
      }
    },
    {
      "cell_type": "code",
      "source": [
        "## run the caption_multiple.py file to generate captions for images in /images folder\n",
        "\n",
        "!python catr/caption_multiple.py --path images/"
      ],
      "metadata": {
        "colab": {
          "base_uri": "https://localhost:8080/"
        },
        "id": "y5AIhFUS30an",
        "outputId": "8be15ba9-cafa-4503-e29a-862aa5e06eba"
      },
      "execution_count": null,
      "outputs": [
        {
          "output_type": "stream",
          "name": "stdout",
          "text": [
            "Using cache found in /root/.cache/torch/hub/saahiluppal_catr_master\n",
            "/usr/local/lib/python3.7/dist-packages/torchvision/models/_utils.py:209: UserWarning: The parameter 'pretrained' is deprecated since 0.13 and will be removed in 0.15, please use 'weights' instead.\n",
            "  f\"The parameter '{pretrained_param}' is deprecated since 0.13 and will be removed in 0.15, \"\n",
            "/usr/local/lib/python3.7/dist-packages/torchvision/models/_utils.py:223: UserWarning: Arguments other than a weight enum or `None` for 'weights' are deprecated since 0.13 and will be removed in 0.15. The current behavior is equivalent to passing `weights=ResNet101_Weights.IMAGENET1K_V1`. You can also use `weights=ResNet101_Weights.DEFAULT` to get the most up-to-date weights.\n",
            "  warnings.warn(msg)\n",
            "  0% 0/246 [00:00<?, ?it/s]/root/.cache/torch/hub/saahiluppal_catr_master/models/position_encoding.py:38: UserWarning: __floordiv__ is deprecated, and its behavior will change in a future version of pytorch. It currently rounds toward 0 (like the 'trunc' function NOT 'floor'). This results in incorrect rounding for negative values. To keep the current behavior, use torch.div(a, b, rounding_mode='trunc'), or for actual floor division, use torch.div(a, b, rounding_mode='floor').\n",
            "  dim_t = self.temperature ** (2 * (dim_t // 2) / self.num_pos_feats)\n",
            "  0% 1/246 [00:14<59:09, 14.49s/it]/root/.cache/torch/hub/saahiluppal_catr_master/models/position_encoding.py:38: UserWarning: __floordiv__ is deprecated, and its behavior will change in a future version of pytorch. It currently rounds toward 0 (like the 'trunc' function NOT 'floor'). This results in incorrect rounding for negative values. To keep the current behavior, use torch.div(a, b, rounding_mode='trunc'), or for actual floor division, use torch.div(a, b, rounding_mode='floor').\n",
            "  dim_t = self.temperature ** (2 * (dim_t // 2) / self.num_pos_feats)\n",
            "100% 246/246 [39:21<00:00,  9.60s/it]\n",
            "Total of 0 errors.\n"
          ]
        }
      ]
    },
    {
      "cell_type": "markdown",
      "source": [
        "Sample test run to verify if the captions are being produced. The text at the bottom of the cell is the caption produced for an image. "
      ],
      "metadata": {
        "id": "1rnmReITiWrb"
      }
    },
    {
      "cell_type": "code",
      "source": [
        "## sample test run to predict the caption generated for an image \n",
        "\n",
        "!python catr/predict.py --path e10.jpg"
      ],
      "metadata": {
        "colab": {
          "base_uri": "https://localhost:8080/"
        },
        "id": "CRS_hiYdmJq6",
        "outputId": "1997c9b5-aeb1-4c85-cdf5-62d6bb4ac399"
      },
      "execution_count": null,
      "outputs": [
        {
          "output_type": "stream",
          "name": "stdout",
          "text": [
            "Using cache found in /root/.cache/torch/hub/saahiluppal_catr_master\n",
            "/usr/local/lib/python3.7/dist-packages/torchvision/models/_utils.py:209: UserWarning: The parameter 'pretrained' is deprecated since 0.13 and will be removed in 0.15, please use 'weights' instead.\n",
            "  f\"The parameter '{pretrained_param}' is deprecated since 0.13 and will be removed in 0.15, \"\n",
            "/usr/local/lib/python3.7/dist-packages/torchvision/models/_utils.py:223: UserWarning: Arguments other than a weight enum or `None` for 'weights' are deprecated since 0.13 and will be removed in 0.15. The current behavior is equivalent to passing `weights=ResNet101_Weights.IMAGENET1K_V1`. You can also use `weights=ResNet101_Weights.DEFAULT` to get the most up-to-date weights.\n",
            "  warnings.warn(msg)\n",
            "/content/catr/models/position_encoding.py:38: UserWarning: __floordiv__ is deprecated, and its behavior will change in a future version of pytorch. It currently rounds toward 0 (like the 'trunc' function NOT 'floor'). This results in incorrect rounding for negative values. To keep the current behavior, use torch.div(a, b, rounding_mode='trunc'), or for actual floor division, use torch.div(a, b, rounding_mode='floor').\n",
            "  dim_t = self.temperature ** (2 * (dim_t // 2) / self.num_pos_feats)\n",
            "A narrow alley with a red and white car and a red and white building.\n"
          ]
        }
      ]
    },
    {
      "cell_type": "markdown",
      "source": [
        "Create a filler in the form of \"Caption\" for the dataframe and fill it with some default string."
      ],
      "metadata": {
        "id": "g_xjG_R6ga5P"
      }
    },
    {
      "cell_type": "code",
      "source": [
        "#df_clean['Caption'] = 'No'\n",
        "#print(df_clean.columns)\n",
        "df_short['Caption'] = 'No'\n",
        "df_short"
      ],
      "metadata": {
        "id": "uN141qFdbOs2"
      },
      "execution_count": null,
      "outputs": []
    },
    {
      "cell_type": "markdown",
      "source": [
        "Read the json file and map the caption to the index of the tweet in the dataframe "
      ],
      "metadata": {
        "id": "gtW4OIbhgjxq"
      }
    },
    {
      "cell_type": "code",
      "source": [
        "import json\n",
        "f = open('images.json')\n",
        "data = json.load(f)\n",
        "type(data)\n",
        "for key, value in data.items():\n",
        "  index_value = key\n",
        "  index_value_split = index_value.split(\".\")\n",
        "  index_number = int(index_value_split[0])\n",
        "  print(type(index_number))\n",
        "  #df_clean.at[index_number, 'Caption'] = value\n",
        "  df_short.at[index_number, 'Caption'] = value"
      ],
      "metadata": {
        "id": "y1SwOHMVXxu7"
      },
      "execution_count": null,
      "outputs": []
    },
    {
      "cell_type": "code",
      "source": [
        "df_short\n"
      ],
      "metadata": {
        "id": "mMXDNZA3bxTz"
      },
      "execution_count": null,
      "outputs": []
    },
    {
      "cell_type": "markdown",
      "source": [
        "Clean the dataframe again and reset the indexes, if required"
      ],
      "metadata": {
        "id": "6WrH1v8sgq-D"
      }
    },
    {
      "cell_type": "code",
      "source": [
        "#df_clean = df_clean[df_clean.Caption != 'No']\n",
        "#df_clean\n",
        "#df_clean.reset_index(drop = True)\n",
        "\n",
        "df_short = df_short[df_short.Caption != 'No']\n",
        "df_short\n",
        "\n",
        "df_short = df_short.reset_index(drop = True)"
      ],
      "metadata": {
        "id": "6puHQ3PpdFy7"
      },
      "execution_count": null,
      "outputs": []
    },
    {
      "cell_type": "code",
      "source": [
        "df_short"
      ],
      "metadata": {
        "id": "pNZBLauX2Qnw"
      },
      "execution_count": null,
      "outputs": []
    },
    {
      "cell_type": "markdown",
      "source": [
        "##Creation of Train-Test-Validation Splits\n",
        "\n",
        "Here, we are just extracting the required columns for the classification task and creating the train, validation and test split. "
      ],
      "metadata": {
        "id": "FGyZYR7ngz2D"
      }
    },
    {
      "cell_type": "code",
      "source": [
        "df_class = df_short[['tweet_id', 'text_info', 'tweet_text', 'Caption']]\n",
        "\n",
        "#df_class.text_info.replace(to_replace=[\"not_informative\", \"informative\"], value=['0', '1'])\n",
        "df_class[\"text_info\"] = pd.Categorical(df_class[\"text_info\"]).codes\n",
        "df_class = df_class.rename(columns = {'text_info': 'label', 'tweet_text':'sentence1', 'Caption': 'sentence2'})\n",
        "\n",
        "df_class"
      ],
      "metadata": {
        "id": "sDJky4aP2lTF"
      },
      "execution_count": null,
      "outputs": []
    },
    {
      "cell_type": "markdown",
      "source": [
        "Create the train, test and validation splits for the sentence classification task using BERT"
      ],
      "metadata": {
        "id": "yLFcxuw-aete"
      }
    },
    {
      "cell_type": "code",
      "source": [
        "# splitting into ratio of train-test and validation\n",
        "print(len(df_class.index))\n",
        "len_1 = int(0.7 * len(df_class.index))\n",
        "len_2 = int(0.1 * len(df_class.index))\n",
        "\n",
        "\n",
        "df_class_train = df_class[0:len_1]\n",
        "df_class_val = df_class[len_1: len_1 + len_2]\n",
        "df_class_test = df_class[len_1 +  len_2: len(df_class.index)]\n",
        "\n",
        "\n",
        "df_class_train.to_csv('train.csv', index = False)\n",
        "df_class_val.to_csv('val.csv', index = False)\n",
        "df_class_test.to_csv('test.csv', index = False)"
      ],
      "metadata": {
        "id": "-H4y_aqA6TNY"
      },
      "execution_count": null,
      "outputs": []
    },
    {
      "cell_type": "markdown",
      "source": [
        "Once the csv files have been generated for each of the splits, remove the /images folder "
      ],
      "metadata": {
        "id": "J3Vb39kSh-AH"
      }
    },
    {
      "cell_type": "code",
      "source": [
        "!rm -rf images"
      ],
      "metadata": {
        "id": "PCg7sutgiUXh"
      },
      "execution_count": null,
      "outputs": []
    }
  ]
}